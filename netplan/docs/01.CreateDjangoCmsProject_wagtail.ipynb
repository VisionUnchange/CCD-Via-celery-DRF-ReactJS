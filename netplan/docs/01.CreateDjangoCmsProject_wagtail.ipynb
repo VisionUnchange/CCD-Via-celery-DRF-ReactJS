{
 "cells": [
  {
   "cell_type": "markdown",
   "metadata": {},
   "source": [
    "# wagtail install"
   ]
  },
  {
   "cell_type": "code",
   "execution_count": null,
   "metadata": {
    "collapsed": true
   },
   "outputs": [],
   "source": [
    "$ pip install wagtail\n",
    "$ wagtail start mysite\n",
    "\n",
    "$ cd mysite\n",
    "\n",
    "$ pip install -r requirements.txt\n",
    "$ ./manage.py migrate\n",
    "$ ./manage.py createsuperuser\n",
    "$ ./manage.py runserver"
   ]
  },
  {
   "cell_type": "markdown",
   "metadata": {},
   "source": [
    "wagtail start mysite创建基本的DJANGO CMS(wagtail)项目模板，只包含了基本的配置项和home APP.\n",
    "pip install -r requirements.txt 安装其它所需要的基本组件。"
   ]
  },
  {
   "cell_type": "markdown",
   "metadata": {},
   "source": [
    "# settings"
   ]
  }
 ],
 "metadata": {
  "kernelspec": {
   "display_name": "Python 3",
   "language": "python",
   "name": "python3"
  },
  "language_info": {
   "codemirror_mode": {
    "name": "ipython",
    "version": 3
   },
   "file_extension": ".py",
   "mimetype": "text/x-python",
   "name": "python",
   "nbconvert_exporter": "python",
   "pygments_lexer": "ipython3",
   "version": "3.6.1"
  }
 },
 "nbformat": 4,
 "nbformat_minor": 2
}
